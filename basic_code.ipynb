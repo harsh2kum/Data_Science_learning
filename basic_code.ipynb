{
 "cells": [
  {
   "cell_type": "code",
   "execution_count": 3,
   "id": "f658168d",
   "metadata": {},
   "outputs": [
    {
     "name": "stdout",
     "output_type": "stream",
     "text": [
      "harsh  \n",
      "25\n",
      "varanasi \n",
      "black\n"
     ]
    }
   ],
   "source": [
    "#Write a program that asks for a person's name, age, city, and favorite color. Format and display this information in a neat way using f-strings.\n",
    "name = input(\"enter your name: \")\n",
    "age = int(input(\"Enter your age: \"))\n",
    "city = input(\"Enter your city: \")\n",
    "favorite_color = input(\"Enter your favorite_color: \") \n",
    "print(name)\n",
    "print(age)\n",
    "print(city)\n",
    "print(favorite_color)\n"
   ]
  },
  {
   "cell_type": "code",
   "execution_count": null,
   "id": "5dd7c645",
   "metadata": {},
   "outputs": [
    {
     "name": "stdout",
     "output_type": "stream",
     "text": [
      "HARSHKUMAR\n",
      "harshkumar\n",
      "10\n",
      "h\n",
      "r\n",
      "ramukhsrah\n"
     ]
    }
   ],
   "source": [
    "#Create a program that asks the user to enter a string, then displays:\n",
    "# The string in all uppercase\n",
    "# The string in all lowercase\n",
    "# The length of the string\n",
    "# The first and last characters\n",
    "# The string reversed\n",
    "string = input(\"enter the String: \")\n",
    "print(string.upper())\n",
    "print(string.lower())\n",
    "print(len(string))\n",
    "print(string[0])\n",
    "print(string[-1])\n",
    "print(string[::-1])"
   ]
  },
  {
   "cell_type": "code",
   "execution_count": null,
   "id": "d4c14871",
   "metadata": {},
   "outputs": [
    {
     "name": "stdout",
     "output_type": "stream",
     "text": [
      "odd\n"
     ]
    }
   ],
   "source": [
    "#even or odd \n",
    "num = int(input(\"enter the number\"))\n",
    "if num%2==0:\n",
    "    print(\"Even\")\n",
    "else:\n",
    "    print(\"odd\")"
   ]
  },
  {
   "cell_type": "code",
   "execution_count": 2,
   "id": "f52e7f56",
   "metadata": {},
   "outputs": [
    {
     "name": "stdout",
     "output_type": "stream",
     "text": [
      "Not a leap year\n"
     ]
    }
   ],
   "source": [
    "#Leap year \n",
    "year = int(input(\"enter the year\"))\n",
    "if (year%4==0) and (year%100 !=0 or year%400 == 0):\n",
    "    print(\"Leap year\")\n",
    "else:\n",
    "    print(\"Not a leap year\")"
   ]
  },
  {
   "cell_type": "code",
   "execution_count": 8,
   "id": "72348c7e",
   "metadata": {},
   "outputs": [
    {
     "name": "stdout",
     "output_type": "stream",
     "text": [
      "ajdsnadjij\n",
      "Vowels: 3\n",
      "Consonants: 7\n"
     ]
    }
   ],
   "source": [
    "#Create a program that counts how many vowels (a, e, i, o, u) and consonants are in a string entered by the user. Ignore spaces and punctuation.\n",
    "def count_vowels_consonants(text):\n",
    "    vowels = \"aeiouAEIOU\"\n",
    "    vowel_count = 0\n",
    "    consonant_count = 0\n",
    "\n",
    "    for char in text:\n",
    "        if char.isalpha():  # Only consider alphabetic characters\n",
    "            if char in vowels:\n",
    "                vowel_count += 1\n",
    "            else:\n",
    "                consonant_count += 1\n",
    "\n",
    "    print(f\"Vowels: {vowel_count}\")\n",
    "    print(f\"Consonants: {consonant_count}\")\n",
    "\n",
    "\n",
    "user_input = input(\"Enter a string: \")\n",
    "print(user_input)\n",
    "count_vowels_consonants(user_input)\n"
   ]
  }
 ],
 "metadata": {
  "kernelspec": {
   "display_name": "base",
   "language": "python",
   "name": "python3"
  },
  "language_info": {
   "codemirror_mode": {
    "name": "ipython",
    "version": 3
   },
   "file_extension": ".py",
   "mimetype": "text/x-python",
   "name": "python",
   "nbconvert_exporter": "python",
   "pygments_lexer": "ipython3",
   "version": "3.12.4"
  }
 },
 "nbformat": 4,
 "nbformat_minor": 5
}
